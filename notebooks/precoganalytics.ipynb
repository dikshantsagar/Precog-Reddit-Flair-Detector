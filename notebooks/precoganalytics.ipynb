{
 "cells": [
  {
   "cell_type": "code",
   "execution_count": 41,
   "metadata": {},
   "outputs": [],
   "source": [
    "import praw as pr\n",
    "from praw.models import MoreComments\n",
    "inst=pr.Reddit(client_id='3OfPLZHksCkemA',\n",
    "                     client_secret='MvF8ObKoHJ8PNAFDh00WdSx8Y9E',\n",
    "                     password='precogreddit',\n",
    "                     user_agent='testscript',\n",
    "                     username='DikshantSagar')\n",
    "\n",
    "sub=inst.subreddit('india')\n"
   ]
  },
  {
   "cell_type": "code",
   "execution_count": 42,
   "metadata": {},
   "outputs": [],
   "source": [
    "import pandas as pd\n",
    "import numpy as np\n",
    "import pickle as pk"
   ]
  },
  {
   "cell_type": "code",
   "execution_count": 43,
   "metadata": {},
   "outputs": [],
   "source": [
    "flairs=['Politics','Non-Political','AskIndia', \"[R]eddiquette\", 'Science/Technology', 'Policy/Economy', 'Business/Finance', 'Scheduled', 'Sports', 'Food', 'Photography']\n",
    "\n"
   ]
  },
  {
   "cell_type": "markdown",
   "metadata": {},
   "source": [
    "# Fetching upvote count and number of comments per flair"
   ]
  },
  {
   "cell_type": "code",
   "execution_count": 5,
   "metadata": {},
   "outputs": [
    {
     "data": {
      "text/plain": [
       "({'Politics': 0,\n",
       "  'Non-Political': 0,\n",
       "  'AskIndia': 0,\n",
       "  '[R]eddiquette': 0,\n",
       "  'Science/Technology': 0,\n",
       "  'Policy/Economy': 0,\n",
       "  'Business/Finance': 0,\n",
       "  'Scheduled': 0,\n",
       "  'Sports': 0,\n",
       "  'Food': 0,\n",
       "  'Photography': 0},\n",
       " {'Politics': 0,\n",
       "  'Non-Political': 0,\n",
       "  'AskIndia': 0,\n",
       "  '[R]eddiquette': 0,\n",
       "  'Science/Technology': 0,\n",
       "  'Policy/Economy': 0,\n",
       "  'Business/Finance': 0,\n",
       "  'Scheduled': 0,\n",
       "  'Sports': 0,\n",
       "  'Food': 0,\n",
       "  'Photography': 0})"
      ]
     },
     "execution_count": 5,
     "metadata": {},
     "output_type": "execute_result"
    }
   ],
   "source": [
    "upvotecount={}\n",
    "commentcount={}\n",
    "for f in flairs:\n",
    "    upvotecount[f]=0\n",
    "    commentcount[f]=0\n",
    "upvotecount,commentcount"
   ]
  },
  {
   "cell_type": "code",
   "execution_count": 7,
   "metadata": {},
   "outputs": [],
   "source": [
    "for i in sub.top('all',limit=None):\n",
    "    if(i.link_flair_text in flairs):\n",
    "        upvotecount[i.link_flair_text]+=i.ups\n",
    "        commentcount[i.link_flair_text]+=len(i.comments)"
   ]
  },
  {
   "cell_type": "code",
   "execution_count": 35,
   "metadata": {},
   "outputs": [],
   "source": [
    "upvotelist=list(upvotecount.values())\n",
    "commentlist=list(commentcount.values())\n"
   ]
  },
  {
   "cell_type": "markdown",
   "metadata": {},
   "source": [
    "# Saving to disk as .obj for use in the webapp"
   ]
  },
  {
   "cell_type": "code",
   "execution_count": 40,
   "metadata": {},
   "outputs": [],
   "source": [
    "analytics=[upvotelist,commentlist]\n",
    "file=open('precog/analytics.obj','wb')\n",
    "pk.dump(analytics,file)"
   ]
  },
  {
   "cell_type": "code",
   "execution_count": 38,
   "metadata": {},
   "outputs": [
    {
     "data": {
      "text/plain": [
       "[[325191, 978542, 11374, 129937, 25063, 28732, 39876, 0, 77180, 30020, 83379],\n",
       " [8750, 25165, 799, 3558, 591, 750, 1135, 0, 1393, 1146, 1788]]"
      ]
     },
     "execution_count": 38,
     "metadata": {},
     "output_type": "execute_result"
    }
   ],
   "source": [
    "analytics"
   ]
  },
  {
   "cell_type": "code",
   "execution_count": null,
   "metadata": {},
   "outputs": [],
   "source": []
  }
 ],
 "metadata": {
  "kernelspec": {
   "display_name": "Python 3",
   "language": "python",
   "name": "python3"
  },
  "language_info": {
   "codemirror_mode": {
    "name": "ipython",
    "version": 3
   },
   "file_extension": ".py",
   "mimetype": "text/x-python",
   "name": "python",
   "nbconvert_exporter": "python",
   "pygments_lexer": "ipython3",
   "version": "3.6.5"
  }
 },
 "nbformat": 4,
 "nbformat_minor": 2
}
