{
 "cells": [
  {
   "cell_type": "code",
   "execution_count": 1,
   "metadata": {},
   "outputs": [],
   "source": [
    "import pandas as pd\n",
    "import numpy as np\n",
    "import nltk\n",
    "\n",
    "from nltk.corpus import stopwords\n",
    "from sklearn.feature_extraction.text import CountVectorizer\n",
    "from sklearn.svm import LinearSVC\n",
    "from sklearn.feature_extraction.text import TfidfTransformer\n",
    "from sklearn.feature_extraction.text import TfidfVectorizer\n",
    "from sklearn.model_selection import train_test_split\n",
    "from sklearn.naive_bayes import GaussianNB"
   ]
  },
  {
   "cell_type": "code",
   "execution_count": 2,
   "metadata": {},
   "outputs": [],
   "source": [
    "data=pd.read_csv('precog/precogdata.csv')"
   ]
  },
  {
   "cell_type": "code",
   "execution_count": 3,
   "metadata": {},
   "outputs": [
    {
     "data": {
      "text/html": [
       "<div>\n",
       "<style scoped>\n",
       "    .dataframe tbody tr th:only-of-type {\n",
       "        vertical-align: middle;\n",
       "    }\n",
       "\n",
       "    .dataframe tbody tr th {\n",
       "        vertical-align: top;\n",
       "    }\n",
       "\n",
       "    .dataframe thead th {\n",
       "        text-align: right;\n",
       "    }\n",
       "</style>\n",
       "<table border=\"1\" class=\"dataframe\">\n",
       "  <thead>\n",
       "    <tr style=\"text-align: right;\">\n",
       "      <th></th>\n",
       "      <th>0</th>\n",
       "      <th>1</th>\n",
       "    </tr>\n",
       "  </thead>\n",
       "  <tbody>\n",
       "    <tr>\n",
       "      <th>0</th>\n",
       "      <td>Will donate thrice the number of upvotes (amou...</td>\n",
       "      <td>[R]eddiquette</td>\n",
       "    </tr>\n",
       "    <tr>\n",
       "      <th>1</th>\n",
       "      <td>If you are not moved by this picture, I wish I...</td>\n",
       "      <td>Non-Political</td>\n",
       "    </tr>\n",
       "    <tr>\n",
       "      <th>2</th>\n",
       "      <td>Megathread: India-Pakistan border skirmish The...</td>\n",
       "      <td>[R]eddiquette</td>\n",
       "    </tr>\n",
       "    <tr>\n",
       "      <th>3</th>\n",
       "      <td>Image Of Smiling Baby For Hyderabad Police Off...</td>\n",
       "      <td>Non-Political</td>\n",
       "    </tr>\n",
       "    <tr>\n",
       "      <th>4</th>\n",
       "      <td>This is India.  Funny comments aside, it's act...</td>\n",
       "      <td>Politics</td>\n",
       "    </tr>\n",
       "  </tbody>\n",
       "</table>\n",
       "</div>"
      ],
      "text/plain": [
       "                                                   0              1\n",
       "0  Will donate thrice the number of upvotes (amou...  [R]eddiquette\n",
       "1  If you are not moved by this picture, I wish I...  Non-Political\n",
       "2  Megathread: India-Pakistan border skirmish The...  [R]eddiquette\n",
       "3  Image Of Smiling Baby For Hyderabad Police Off...  Non-Political\n",
       "4  This is India.  Funny comments aside, it's act...       Politics"
      ]
     },
     "execution_count": 3,
     "metadata": {},
     "output_type": "execute_result"
    }
   ],
   "source": [
    "data.head()"
   ]
  },
  {
   "cell_type": "code",
   "execution_count": 4,
   "metadata": {},
   "outputs": [],
   "source": [
    "numdict={\n",
    "    'Politics': 0,\n",
    " 'Non-Political': 1,\n",
    " 'AskIndia': 2,\n",
    " '[R]eddiquette': 3,\n",
    " 'Science/Technology': 4,\n",
    " 'Policy/Economy': 5,\n",
    " 'Business/Finance': 6,\n",
    " 'Scheduled': 7,\n",
    " 'Sports': 8,\n",
    " 'Food': 9,\n",
    " 'Photography': 10\n",
    "}"
   ]
  },
  {
   "cell_type": "code",
   "execution_count": 5,
   "metadata": {},
   "outputs": [],
   "source": [
    "for i in range(len(data)):\n",
    "    data.iloc[:,1][i]=numdict[data.iloc[:,1][i]]"
   ]
  },
  {
   "cell_type": "code",
   "execution_count": 6,
   "metadata": {},
   "outputs": [
    {
     "data": {
      "text/html": [
       "<div>\n",
       "<style scoped>\n",
       "    .dataframe tbody tr th:only-of-type {\n",
       "        vertical-align: middle;\n",
       "    }\n",
       "\n",
       "    .dataframe tbody tr th {\n",
       "        vertical-align: top;\n",
       "    }\n",
       "\n",
       "    .dataframe thead th {\n",
       "        text-align: right;\n",
       "    }\n",
       "</style>\n",
       "<table border=\"1\" class=\"dataframe\">\n",
       "  <thead>\n",
       "    <tr style=\"text-align: right;\">\n",
       "      <th></th>\n",
       "      <th>0</th>\n",
       "      <th>1</th>\n",
       "    </tr>\n",
       "  </thead>\n",
       "  <tbody>\n",
       "    <tr>\n",
       "      <th>0</th>\n",
       "      <td>Will donate thrice the number of upvotes (amou...</td>\n",
       "      <td>3</td>\n",
       "    </tr>\n",
       "    <tr>\n",
       "      <th>1</th>\n",
       "      <td>If you are not moved by this picture, I wish I...</td>\n",
       "      <td>1</td>\n",
       "    </tr>\n",
       "    <tr>\n",
       "      <th>2</th>\n",
       "      <td>Megathread: India-Pakistan border skirmish The...</td>\n",
       "      <td>3</td>\n",
       "    </tr>\n",
       "    <tr>\n",
       "      <th>3</th>\n",
       "      <td>Image Of Smiling Baby For Hyderabad Police Off...</td>\n",
       "      <td>1</td>\n",
       "    </tr>\n",
       "    <tr>\n",
       "      <th>4</th>\n",
       "      <td>This is India.  Funny comments aside, it's act...</td>\n",
       "      <td>0</td>\n",
       "    </tr>\n",
       "  </tbody>\n",
       "</table>\n",
       "</div>"
      ],
      "text/plain": [
       "                                                   0  1\n",
       "0  Will donate thrice the number of upvotes (amou...  3\n",
       "1  If you are not moved by this picture, I wish I...  1\n",
       "2  Megathread: India-Pakistan border skirmish The...  3\n",
       "3  Image Of Smiling Baby For Hyderabad Police Off...  1\n",
       "4  This is India.  Funny comments aside, it's act...  0"
      ]
     },
     "execution_count": 6,
     "metadata": {},
     "output_type": "execute_result"
    }
   ],
   "source": [
    "data.head()"
   ]
  },
  {
   "cell_type": "code",
   "execution_count": 7,
   "metadata": {},
   "outputs": [],
   "source": [
    "data.to_csv('precog/formatdata.csv', sep=',',index=False)"
   ]
  },
  {
   "cell_type": "markdown",
   "metadata": {},
   "source": [
    "## work on formatted data"
   ]
  },
  {
   "cell_type": "code",
   "execution_count": 8,
   "metadata": {},
   "outputs": [],
   "source": [
    "data=pd.read_csv('precog/formatdata.csv')"
   ]
  },
  {
   "cell_type": "code",
   "execution_count": 9,
   "metadata": {},
   "outputs": [
    {
     "data": {
      "text/html": [
       "<div>\n",
       "<style scoped>\n",
       "    .dataframe tbody tr th:only-of-type {\n",
       "        vertical-align: middle;\n",
       "    }\n",
       "\n",
       "    .dataframe tbody tr th {\n",
       "        vertical-align: top;\n",
       "    }\n",
       "\n",
       "    .dataframe thead th {\n",
       "        text-align: right;\n",
       "    }\n",
       "</style>\n",
       "<table border=\"1\" class=\"dataframe\">\n",
       "  <thead>\n",
       "    <tr style=\"text-align: right;\">\n",
       "      <th></th>\n",
       "      <th>0</th>\n",
       "      <th>1</th>\n",
       "    </tr>\n",
       "  </thead>\n",
       "  <tbody>\n",
       "    <tr>\n",
       "      <th>0</th>\n",
       "      <td>Will donate thrice the number of upvotes (amou...</td>\n",
       "      <td>3</td>\n",
       "    </tr>\n",
       "    <tr>\n",
       "      <th>1</th>\n",
       "      <td>If you are not moved by this picture, I wish I...</td>\n",
       "      <td>1</td>\n",
       "    </tr>\n",
       "    <tr>\n",
       "      <th>2</th>\n",
       "      <td>Megathread: India-Pakistan border skirmish The...</td>\n",
       "      <td>3</td>\n",
       "    </tr>\n",
       "    <tr>\n",
       "      <th>3</th>\n",
       "      <td>Image Of Smiling Baby For Hyderabad Police Off...</td>\n",
       "      <td>1</td>\n",
       "    </tr>\n",
       "    <tr>\n",
       "      <th>4</th>\n",
       "      <td>This is India.  Funny comments aside, it's act...</td>\n",
       "      <td>0</td>\n",
       "    </tr>\n",
       "  </tbody>\n",
       "</table>\n",
       "</div>"
      ],
      "text/plain": [
       "                                                   0  1\n",
       "0  Will donate thrice the number of upvotes (amou...  3\n",
       "1  If you are not moved by this picture, I wish I...  1\n",
       "2  Megathread: India-Pakistan border skirmish The...  3\n",
       "3  Image Of Smiling Baby For Hyderabad Police Off...  1\n",
       "4  This is India.  Funny comments aside, it's act...  0"
      ]
     },
     "execution_count": 9,
     "metadata": {},
     "output_type": "execute_result"
    }
   ],
   "source": [
    "data.head()"
   ]
  },
  {
   "cell_type": "code",
   "execution_count": 10,
   "metadata": {
    "collapsed": true
   },
   "outputs": [
    {
     "data": {
      "text/html": [
       "<div>\n",
       "<style scoped>\n",
       "    .dataframe tbody tr th:only-of-type {\n",
       "        vertical-align: middle;\n",
       "    }\n",
       "\n",
       "    .dataframe tbody tr th {\n",
       "        vertical-align: top;\n",
       "    }\n",
       "\n",
       "    .dataframe thead th {\n",
       "        text-align: right;\n",
       "    }\n",
       "</style>\n",
       "<table border=\"1\" class=\"dataframe\">\n",
       "  <thead>\n",
       "    <tr style=\"text-align: right;\">\n",
       "      <th></th>\n",
       "      <th>0</th>\n",
       "      <th>1</th>\n",
       "    </tr>\n",
       "  </thead>\n",
       "  <tbody>\n",
       "    <tr>\n",
       "      <th>0</th>\n",
       "      <td>Will donate thrice the number of upvotes (amou...</td>\n",
       "      <td>3</td>\n",
       "    </tr>\n",
       "    <tr>\n",
       "      <th>1</th>\n",
       "      <td>If you are not moved by this picture, I wish I...</td>\n",
       "      <td>1</td>\n",
       "    </tr>\n",
       "    <tr>\n",
       "      <th>2</th>\n",
       "      <td>Megathread: India-Pakistan border skirmish The...</td>\n",
       "      <td>3</td>\n",
       "    </tr>\n",
       "    <tr>\n",
       "      <th>3</th>\n",
       "      <td>Image Of Smiling Baby For Hyderabad Police Off...</td>\n",
       "      <td>1</td>\n",
       "    </tr>\n",
       "    <tr>\n",
       "      <th>4</th>\n",
       "      <td>This is India.  Funny comments aside, it's act...</td>\n",
       "      <td>0</td>\n",
       "    </tr>\n",
       "    <tr>\n",
       "      <th>5</th>\n",
       "      <td>No Yoga and Yoga. Difference  Did they play me...</td>\n",
       "      <td>0</td>\n",
       "    </tr>\n",
       "    <tr>\n",
       "      <th>6</th>\n",
       "      <td>Help, ideas needed. HLL poisoned my village wi...</td>\n",
       "      <td>3</td>\n",
       "    </tr>\n",
       "    <tr>\n",
       "      <th>7</th>\n",
       "      <td>An Indian woman, a Japanese woman, and a Syria...</td>\n",
       "      <td>1</td>\n",
       "    </tr>\n",
       "    <tr>\n",
       "      <th>8</th>\n",
       "      <td>Incredible India.  Where do these tourists alw...</td>\n",
       "      <td>1</td>\n",
       "    </tr>\n",
       "    <tr>\n",
       "      <th>9</th>\n",
       "      <td>My friend passed away and TOI made a mockery o...</td>\n",
       "      <td>3</td>\n",
       "    </tr>\n",
       "    <tr>\n",
       "      <th>10</th>\n",
       "      <td>Memes work a bit differently when in Delhi!  M...</td>\n",
       "      <td>1</td>\n",
       "    </tr>\n",
       "    <tr>\n",
       "      <th>11</th>\n",
       "      <td>Hindu cop standing guard as Muslim comrade off...</td>\n",
       "      <td>1</td>\n",
       "    </tr>\n",
       "    <tr>\n",
       "      <th>12</th>\n",
       "      <td>Tigress Samruddhi with her four cubs at the Au...</td>\n",
       "      <td>1</td>\n",
       "    </tr>\n",
       "    <tr>\n",
       "      <th>13</th>\n",
       "      <td>Dem truth bombs  Where’s the elephant that I r...</td>\n",
       "      <td>1</td>\n",
       "    </tr>\n",
       "    <tr>\n",
       "      <th>14</th>\n",
       "      <td>My father has been taking the same bus to work...</td>\n",
       "      <td>1</td>\n",
       "    </tr>\n",
       "    <tr>\n",
       "      <th>15</th>\n",
       "      <td>Indian Wonder Woman- Cosplay by Deepica Mutyal...</td>\n",
       "      <td>1</td>\n",
       "    </tr>\n",
       "    <tr>\n",
       "      <th>16</th>\n",
       "      <td>If you still throw garbage on street.  I used ...</td>\n",
       "      <td>1</td>\n",
       "    </tr>\n",
       "    <tr>\n",
       "      <th>17</th>\n",
       "      <td>#ProfileNUMPeace #SayNoToWar (x-post from /r/p...</td>\n",
       "      <td>0</td>\n",
       "    </tr>\n",
       "    <tr>\n",
       "      <th>18</th>\n",
       "      <td>Good bois celebrating International Yoga day! ...</td>\n",
       "      <td>1</td>\n",
       "    </tr>\n",
       "    <tr>\n",
       "      <th>19</th>\n",
       "      <td>Celebrating holi amidst snowfall in Sangla, Hi...</td>\n",
       "      <td>1</td>\n",
       "    </tr>\n",
       "    <tr>\n",
       "      <th>20</th>\n",
       "      <td>A mother wrote to Hindustan pencils about her ...</td>\n",
       "      <td>6</td>\n",
       "    </tr>\n",
       "    <tr>\n",
       "      <th>21</th>\n",
       "      <td>The Trend is spreading to Dimapur, Nagaland.  ...</td>\n",
       "      <td>1</td>\n",
       "    </tr>\n",
       "    <tr>\n",
       "      <th>22</th>\n",
       "      <td>Gay sex has been decriminalised in India. The ...</td>\n",
       "      <td>0</td>\n",
       "    </tr>\n",
       "    <tr>\n",
       "      <th>23</th>\n",
       "      <td>Beautiful Bangalore  Great composition, but to...</td>\n",
       "      <td>1</td>\n",
       "    </tr>\n",
       "    <tr>\n",
       "      <th>24</th>\n",
       "      <td>Tesla Semi Truck in India. [NP]  \"Horn ok plea...</td>\n",
       "      <td>1</td>\n",
       "    </tr>\n",
       "    <tr>\n",
       "      <th>25</th>\n",
       "      <td>Everything is Banned: An Ajnabee's Reaction to...</td>\n",
       "      <td>0</td>\n",
       "    </tr>\n",
       "    <tr>\n",
       "      <th>26</th>\n",
       "      <td>This is Ramesh from Dharmapuri, He donated NUM...</td>\n",
       "      <td>1</td>\n",
       "    </tr>\n",
       "    <tr>\n",
       "      <th>27</th>\n",
       "      <td>I finally decided to upload my first webcomic ...</td>\n",
       "      <td>1</td>\n",
       "    </tr>\n",
       "    <tr>\n",
       "      <th>28</th>\n",
       "      <td>Spotify after two songs  Real-life lol’d. Lol ...</td>\n",
       "      <td>1</td>\n",
       "    </tr>\n",
       "    <tr>\n",
       "      <th>29</th>\n",
       "      <td>India did it before it was cool.  Far cry NUM:...</td>\n",
       "      <td>1</td>\n",
       "    </tr>\n",
       "    <tr>\n",
       "      <th>...</th>\n",
       "      <td>...</td>\n",
       "      <td>...</td>\n",
       "    </tr>\n",
       "    <tr>\n",
       "      <th>914</th>\n",
       "      <td>Recently been to North East of India for about...</td>\n",
       "      <td>1</td>\n",
       "    </tr>\n",
       "    <tr>\n",
       "      <th>915</th>\n",
       "      <td>TIL: How Soviet Union threatened US,UK and Chi...</td>\n",
       "      <td>1</td>\n",
       "    </tr>\n",
       "    <tr>\n",
       "      <th>916</th>\n",
       "      <td>Pirate vs Pirated  Cross between Willy Wonka a...</td>\n",
       "      <td>3</td>\n",
       "    </tr>\n",
       "    <tr>\n",
       "      <th>917</th>\n",
       "      <td>Oxford student harassed by Indians on Quora fo...</td>\n",
       "      <td>1</td>\n",
       "    </tr>\n",
       "    <tr>\n",
       "      <th>918</th>\n",
       "      <td>Denying people the right to eat: Kerala to tak...</td>\n",
       "      <td>0</td>\n",
       "    </tr>\n",
       "    <tr>\n",
       "      <th>919</th>\n",
       "      <td>Dr Manmohan Singh: People say I was a silent P...</td>\n",
       "      <td>0</td>\n",
       "    </tr>\n",
       "    <tr>\n",
       "      <th>920</th>\n",
       "      <td>Saw this on Github  Github is the one place yo...</td>\n",
       "      <td>1</td>\n",
       "    </tr>\n",
       "    <tr>\n",
       "      <th>921</th>\n",
       "      <td>Air india airplane with a stunning rainbow [ R...</td>\n",
       "      <td>3</td>\n",
       "    </tr>\n",
       "    <tr>\n",
       "      <th>922</th>\n",
       "      <td>Ayushmann Khurrana’s Badhaai Ho crosses Rs NUM...</td>\n",
       "      <td>1</td>\n",
       "    </tr>\n",
       "    <tr>\n",
       "      <th>923</th>\n",
       "      <td>A Jet Airways Mumbai-Jaipur flight was turned ...</td>\n",
       "      <td>1</td>\n",
       "    </tr>\n",
       "    <tr>\n",
       "      <th>924</th>\n",
       "      <td>The Economist cover this week  The correct tit...</td>\n",
       "      <td>0</td>\n",
       "    </tr>\n",
       "    <tr>\n",
       "      <th>925</th>\n",
       "      <td>India: Condom, Pregnancies &amp; abortions  Damn i...</td>\n",
       "      <td>0</td>\n",
       "    </tr>\n",
       "    <tr>\n",
       "      <th>926</th>\n",
       "      <td>Kid watching the fireworks at Dussehra  Kinda ...</td>\n",
       "      <td>10</td>\n",
       "    </tr>\n",
       "    <tr>\n",
       "      <th>927</th>\n",
       "      <td>dbrand is anti-national.  dbrand guys trying t...</td>\n",
       "      <td>1</td>\n",
       "    </tr>\n",
       "    <tr>\n",
       "      <th>928</th>\n",
       "      <td>What the fuck is this shit now?  Oh come on! E...</td>\n",
       "      <td>0</td>\n",
       "    </tr>\n",
       "    <tr>\n",
       "      <th>929</th>\n",
       "      <td>As the US moves to dismantle net neutrality ru...</td>\n",
       "      <td>5</td>\n",
       "    </tr>\n",
       "    <tr>\n",
       "      <th>930</th>\n",
       "      <td>Chennai evening sunset  *cries in delhi* OMR? ...</td>\n",
       "      <td>10</td>\n",
       "    </tr>\n",
       "    <tr>\n",
       "      <th>931</th>\n",
       "      <td>Two years ago, I tried to fetch my tenth grade...</td>\n",
       "      <td>1</td>\n",
       "    </tr>\n",
       "    <tr>\n",
       "      <th>932</th>\n",
       "      <td>For once our politicians are protecting the ci...</td>\n",
       "      <td>1</td>\n",
       "    </tr>\n",
       "    <tr>\n",
       "      <th>933</th>\n",
       "      <td>Don't worry, momma. (Good one, AIB).  Don't be...</td>\n",
       "      <td>0</td>\n",
       "    </tr>\n",
       "    <tr>\n",
       "      <th>934</th>\n",
       "      <td>Rape victims needn’t approach medical board to...</td>\n",
       "      <td>5</td>\n",
       "    </tr>\n",
       "    <tr>\n",
       "      <th>935</th>\n",
       "      <td>You can be next  Is that shit in this shit pos...</td>\n",
       "      <td>1</td>\n",
       "    </tr>\n",
       "    <tr>\n",
       "      <th>936</th>\n",
       "      <td>[NSFW] A couple was indulging in PDA shameless...</td>\n",
       "      <td>1</td>\n",
       "    </tr>\n",
       "    <tr>\n",
       "      <th>937</th>\n",
       "      <td>How every Brahmic Script writes Sanskrit conso...</td>\n",
       "      <td>1</td>\n",
       "    </tr>\n",
       "    <tr>\n",
       "      <th>938</th>\n",
       "      <td>After more than a decade of using BSNL's NUMkb...</td>\n",
       "      <td>1</td>\n",
       "    </tr>\n",
       "    <tr>\n",
       "      <th>939</th>\n",
       "      <td>Deccan Herald's Speak Out: NUMth March NUM  Th...</td>\n",
       "      <td>0</td>\n",
       "    </tr>\n",
       "    <tr>\n",
       "      <th>940</th>\n",
       "      <td>I've always loved Indian clothing. Finally per...</td>\n",
       "      <td>1</td>\n",
       "    </tr>\n",
       "    <tr>\n",
       "      <th>941</th>\n",
       "      <td>Google Maps has rolled out speed camera alert ...</td>\n",
       "      <td>1</td>\n",
       "    </tr>\n",
       "    <tr>\n",
       "      <th>942</th>\n",
       "      <td>There's still hope.  But if you purchase from ...</td>\n",
       "      <td>1</td>\n",
       "    </tr>\n",
       "    <tr>\n",
       "      <th>943</th>\n",
       "      <td>Delhi Metro...  Got to love the Delhi Metros o...</td>\n",
       "      <td>1</td>\n",
       "    </tr>\n",
       "  </tbody>\n",
       "</table>\n",
       "<p>944 rows × 2 columns</p>\n",
       "</div>"
      ],
      "text/plain": [
       "                                                     0   1\n",
       "0    Will donate thrice the number of upvotes (amou...   3\n",
       "1    If you are not moved by this picture, I wish I...   1\n",
       "2    Megathread: India-Pakistan border skirmish The...   3\n",
       "3    Image Of Smiling Baby For Hyderabad Police Off...   1\n",
       "4    This is India.  Funny comments aside, it's act...   0\n",
       "5    No Yoga and Yoga. Difference  Did they play me...   0\n",
       "6    Help, ideas needed. HLL poisoned my village wi...   3\n",
       "7    An Indian woman, a Japanese woman, and a Syria...   1\n",
       "8    Incredible India.  Where do these tourists alw...   1\n",
       "9    My friend passed away and TOI made a mockery o...   3\n",
       "10   Memes work a bit differently when in Delhi!  M...   1\n",
       "11   Hindu cop standing guard as Muslim comrade off...   1\n",
       "12   Tigress Samruddhi with her four cubs at the Au...   1\n",
       "13   Dem truth bombs  Where’s the elephant that I r...   1\n",
       "14   My father has been taking the same bus to work...   1\n",
       "15   Indian Wonder Woman- Cosplay by Deepica Mutyal...   1\n",
       "16   If you still throw garbage on street.  I used ...   1\n",
       "17   #ProfileNUMPeace #SayNoToWar (x-post from /r/p...   0\n",
       "18   Good bois celebrating International Yoga day! ...   1\n",
       "19   Celebrating holi amidst snowfall in Sangla, Hi...   1\n",
       "20   A mother wrote to Hindustan pencils about her ...   6\n",
       "21   The Trend is spreading to Dimapur, Nagaland.  ...   1\n",
       "22   Gay sex has been decriminalised in India. The ...   0\n",
       "23   Beautiful Bangalore  Great composition, but to...   1\n",
       "24   Tesla Semi Truck in India. [NP]  \"Horn ok plea...   1\n",
       "25   Everything is Banned: An Ajnabee's Reaction to...   0\n",
       "26   This is Ramesh from Dharmapuri, He donated NUM...   1\n",
       "27   I finally decided to upload my first webcomic ...   1\n",
       "28   Spotify after two songs  Real-life lol’d. Lol ...   1\n",
       "29   India did it before it was cool.  Far cry NUM:...   1\n",
       "..                                                 ...  ..\n",
       "914  Recently been to North East of India for about...   1\n",
       "915  TIL: How Soviet Union threatened US,UK and Chi...   1\n",
       "916  Pirate vs Pirated  Cross between Willy Wonka a...   3\n",
       "917  Oxford student harassed by Indians on Quora fo...   1\n",
       "918  Denying people the right to eat: Kerala to tak...   0\n",
       "919  Dr Manmohan Singh: People say I was a silent P...   0\n",
       "920  Saw this on Github  Github is the one place yo...   1\n",
       "921  Air india airplane with a stunning rainbow [ R...   3\n",
       "922  Ayushmann Khurrana’s Badhaai Ho crosses Rs NUM...   1\n",
       "923  A Jet Airways Mumbai-Jaipur flight was turned ...   1\n",
       "924  The Economist cover this week  The correct tit...   0\n",
       "925  India: Condom, Pregnancies & abortions  Damn i...   0\n",
       "926  Kid watching the fireworks at Dussehra  Kinda ...  10\n",
       "927  dbrand is anti-national.  dbrand guys trying t...   1\n",
       "928  What the fuck is this shit now?  Oh come on! E...   0\n",
       "929  As the US moves to dismantle net neutrality ru...   5\n",
       "930  Chennai evening sunset  *cries in delhi* OMR? ...  10\n",
       "931  Two years ago, I tried to fetch my tenth grade...   1\n",
       "932  For once our politicians are protecting the ci...   1\n",
       "933  Don't worry, momma. (Good one, AIB).  Don't be...   0\n",
       "934  Rape victims needn’t approach medical board to...   5\n",
       "935  You can be next  Is that shit in this shit pos...   1\n",
       "936  [NSFW] A couple was indulging in PDA shameless...   1\n",
       "937  How every Brahmic Script writes Sanskrit conso...   1\n",
       "938  After more than a decade of using BSNL's NUMkb...   1\n",
       "939  Deccan Herald's Speak Out: NUMth March NUM  Th...   0\n",
       "940  I've always loved Indian clothing. Finally per...   1\n",
       "941  Google Maps has rolled out speed camera alert ...   1\n",
       "942  There's still hope.  But if you purchase from ...   1\n",
       "943  Delhi Metro...  Got to love the Delhi Metros o...   1\n",
       "\n",
       "[944 rows x 2 columns]"
      ]
     },
     "execution_count": 10,
     "metadata": {},
     "output_type": "execute_result"
    }
   ],
   "source": [
    "data.replace('\\d+', 'NUM', regex=True)"
   ]
  },
  {
   "cell_type": "markdown",
   "metadata": {},
   "source": [
    "# Dump data to a MongoDB instance"
   ]
  },
  {
   "cell_type": "code",
   "execution_count": null,
   "metadata": {},
   "outputs": [],
   "source": [
    "from pymongo import MongoClient\n",
    "client = MongoClient('localhost', 27017)"
   ]
  },
  {
   "cell_type": "code",
   "execution_count": null,
   "metadata": {},
   "outputs": [],
   "source": [
    "db = client['test-database']\n",
    "collection = db['test-collection']\n"
   ]
  },
  {
   "cell_type": "code",
   "execution_count": null,
   "metadata": {},
   "outputs": [],
   "source": [
    "postdata=[]\n",
    "for i in range(len(data)):\n",
    "    postdata.append({'data':data.iloc[:,0][i],'class':str(data.iloc[:,1][i])})"
   ]
  },
  {
   "cell_type": "code",
   "execution_count": null,
   "metadata": {},
   "outputs": [],
   "source": [
    "postdata[0]"
   ]
  },
  {
   "cell_type": "code",
   "execution_count": null,
   "metadata": {},
   "outputs": [],
   "source": [
    "posts = db.posts\n",
    "result = posts.insert_many(postdata)\n",
    "result.inserted_ids"
   ]
  },
  {
   "cell_type": "markdown",
   "metadata": {},
   "source": [
    "# Vectorizing Text Data"
   ]
  },
  {
   "cell_type": "code",
   "execution_count": null,
   "metadata": {},
   "outputs": [],
   "source": [
    "cv=CountVectorizer(stop_words=stopwords.words(\"english\"), analyzer='word',max_features=1000,token_pattern=r'\\b[^\\d\\W]+\\b')"
   ]
  },
  {
   "cell_type": "code",
   "execution_count": null,
   "metadata": {},
   "outputs": [],
   "source": [
    "x=cv.fit_transform(data.iloc[:,0])"
   ]
  },
  {
   "cell_type": "code",
   "execution_count": null,
   "metadata": {},
   "outputs": [],
   "source": [
    "len(cv.get_feature_names()),cv.get_feature_names()"
   ]
  },
  {
   "cell_type": "code",
   "execution_count": null,
   "metadata": {},
   "outputs": [],
   "source": [
    "cv.vocabulary_"
   ]
  },
  {
   "cell_type": "code",
   "execution_count": null,
   "metadata": {},
   "outputs": [],
   "source": [
    "len(x.toarray()[0])"
   ]
  },
  {
   "cell_type": "code",
   "execution_count": null,
   "metadata": {},
   "outputs": [],
   "source": [
    "tf=TfidfTransformer()"
   ]
  },
  {
   "cell_type": "code",
   "execution_count": null,
   "metadata": {},
   "outputs": [],
   "source": [
    "tfx=tf.fit_transform(x)"
   ]
  },
  {
   "cell_type": "code",
   "execution_count": null,
   "metadata": {},
   "outputs": [],
   "source": [
    "tfx.toarray()"
   ]
  },
  {
   "cell_type": "markdown",
   "metadata": {},
   "source": [
    "# SVM Classifier"
   ]
  },
  {
   "cell_type": "code",
   "execution_count": null,
   "metadata": {},
   "outputs": [],
   "source": [
    "clf=LinearSVC()"
   ]
  },
  {
   "cell_type": "code",
   "execution_count": null,
   "metadata": {},
   "outputs": [],
   "source": [
    "clf.fit(tfx,data.iloc[:,1])"
   ]
  },
  {
   "cell_type": "code",
   "execution_count": null,
   "metadata": {},
   "outputs": [],
   "source": [
    "clf.score(tfx,data.iloc[:,1])"
   ]
  },
  {
   "cell_type": "code",
   "execution_count": null,
   "metadata": {},
   "outputs": [],
   "source": [
    "clf.predict(tfx)"
   ]
  },
  {
   "cell_type": "markdown",
   "metadata": {},
   "source": [
    "# TF-IDF"
   ]
  },
  {
   "cell_type": "code",
   "execution_count": 11,
   "metadata": {},
   "outputs": [],
   "source": [
    "idf=TfidfVectorizer(stop_words=stopwords.words(\"english\"), analyzer='word',max_features=1000,token_pattern=r'\\b[^\\d\\W]+\\b')"
   ]
  },
  {
   "cell_type": "code",
   "execution_count": 12,
   "metadata": {},
   "outputs": [],
   "source": [
    "xdf=idf.fit_transform(data.iloc[:,0])"
   ]
  },
  {
   "cell_type": "code",
   "execution_count": null,
   "metadata": {},
   "outputs": [],
   "source": [
    "clf.fit(xdf,data.iloc[:,0])"
   ]
  },
  {
   "cell_type": "code",
   "execution_count": null,
   "metadata": {},
   "outputs": [],
   "source": [
    "clf.score(xdf,data.iloc[:,0])"
   ]
  },
  {
   "cell_type": "markdown",
   "metadata": {},
   "source": [
    "# train test split "
   ]
  },
  {
   "cell_type": "code",
   "execution_count": 13,
   "metadata": {},
   "outputs": [],
   "source": [
    "xtrain,xtest,ytrain,ytest=train_test_split(data.iloc[:,0],data.iloc[:,1],test_size=0.15, random_state=1)"
   ]
  },
  {
   "cell_type": "code",
   "execution_count": 14,
   "metadata": {},
   "outputs": [],
   "source": [
    "xdftrain=idf.fit_transform(xtrain)\n",
    "xdftest=idf.fit_transform(xtest)"
   ]
  },
  {
   "cell_type": "code",
   "execution_count": null,
   "metadata": {},
   "outputs": [],
   "source": [
    "clf.fit(xdftrain,ytrain)"
   ]
  },
  {
   "cell_type": "code",
   "execution_count": null,
   "metadata": {},
   "outputs": [],
   "source": [
    "clf.score(xdftest,ytest)"
   ]
  },
  {
   "cell_type": "code",
   "execution_count": null,
   "metadata": {},
   "outputs": [],
   "source": [
    "xdftrain.shape , xdftest.shape"
   ]
  },
  {
   "cell_type": "markdown",
   "metadata": {},
   "source": [
    " # naive bayes "
   ]
  },
  {
   "cell_type": "code",
   "execution_count": null,
   "metadata": {},
   "outputs": [],
   "source": [
    "clf2=GaussianNB()"
   ]
  },
  {
   "cell_type": "code",
   "execution_count": null,
   "metadata": {},
   "outputs": [],
   "source": [
    "clf2.fit(xdftrain.toarray(),ytrain)"
   ]
  },
  {
   "cell_type": "code",
   "execution_count": null,
   "metadata": {},
   "outputs": [],
   "source": [
    "clf2.score(xdftest.toarray(),ytest)"
   ]
  },
  {
   "cell_type": "markdown",
   "metadata": {},
   "source": [
    "# dense neural network"
   ]
  },
  {
   "cell_type": "code",
   "execution_count": 15,
   "metadata": {},
   "outputs": [
    {
     "name": "stderr",
     "output_type": "stream",
     "text": [
      "/anaconda3/lib/python3.6/site-packages/h5py/__init__.py:36: FutureWarning: Conversion of the second argument of issubdtype from `float` to `np.floating` is deprecated. In future, it will be treated as `np.float64 == np.dtype(float).type`.\n",
      "  from ._conv import register_converters as _register_converters\n",
      "Using TensorFlow backend.\n"
     ]
    }
   ],
   "source": [
    "import keras\n",
    "from keras.models import Sequential\n",
    "from keras.layers import Dense, Activation, Dropout\n",
    "from keras.preprocessing import text, sequence\n",
    "from keras import utils"
   ]
  },
  {
   "cell_type": "code",
   "execution_count": 16,
   "metadata": {},
   "outputs": [],
   "source": [
    "model = Sequential()\n",
    "model.add(Dense(512, input_shape=(1000,)))\n",
    "model.add(Activation('relu'))\n",
    "model.add(Dropout(0.5))\n",
    "model.add(Dense(11))\n",
    "model.add(Activation('softmax'))"
   ]
  },
  {
   "cell_type": "code",
   "execution_count": 17,
   "metadata": {},
   "outputs": [],
   "source": [
    "model.compile(loss='categorical_crossentropy',\n",
    "              optimizer='adam',\n",
    "              metrics=['accuracy'])"
   ]
  },
  {
   "cell_type": "code",
   "execution_count": null,
   "metadata": {
    "scrolled": true
   },
   "outputs": [],
   "source": [
    "nn = model.fit(xdftrain, utils.to_categorical(ytrain, 11),\n",
    "                    batch_size=30,\n",
    "                    epochs=20,\n",
    "                    verbose=1,\n",
    "                    validation_split=0.1)"
   ]
  },
  {
   "cell_type": "code",
   "execution_count": null,
   "metadata": {},
   "outputs": [],
   "source": [
    "score = model.evaluate(xdftest,utils.to_categorical(ytest, 11),\n",
    "                       batch_size=30, verbose=1)\n",
    "score"
   ]
  },
  {
   "cell_type": "code",
   "execution_count": 18,
   "metadata": {},
   "outputs": [
    {
     "name": "stdout",
     "output_type": "stream",
     "text": [
      "_________________________________________________________________\n",
      "Layer (type)                 Output Shape              Param #   \n",
      "=================================================================\n",
      "dense_1 (Dense)              (None, 512)               512512    \n",
      "_________________________________________________________________\n",
      "activation_1 (Activation)    (None, 512)               0         \n",
      "_________________________________________________________________\n",
      "dropout_1 (Dropout)          (None, 512)               0         \n",
      "_________________________________________________________________\n",
      "dense_2 (Dense)              (None, 11)                5643      \n",
      "_________________________________________________________________\n",
      "activation_2 (Activation)    (None, 11)                0         \n",
      "=================================================================\n",
      "Total params: 518,155\n",
      "Trainable params: 518,155\n",
      "Non-trainable params: 0\n",
      "_________________________________________________________________\n"
     ]
    }
   ],
   "source": [
    "model.summary()"
   ]
  },
  {
   "cell_type": "markdown",
   "metadata": {},
   "source": [
    "# Summarizing results for different models on tf-idf data"
   ]
  },
  {
   "cell_type": "code",
   "execution_count": 19,
   "metadata": {
    "scrolled": true
   },
   "outputs": [
    {
     "name": "stdout",
     "output_type": "stream",
     "text": [
      "Train on 90 samples, validate on 10 samples\n",
      "Epoch 1/20\n",
      "90/90 [==============================] - 0s 4ms/step - loss: 2.3554 - acc: 0.3444 - val_loss: 2.2026 - val_acc: 0.8000\n",
      "Epoch 2/20\n",
      "90/90 [==============================] - 0s 442us/step - loss: 2.1786 - acc: 0.5556 - val_loss: 2.0028 - val_acc: 0.8000\n",
      "Epoch 3/20\n",
      "90/90 [==============================] - 0s 510us/step - loss: 2.0097 - acc: 0.5667 - val_loss: 1.7820 - val_acc: 0.8000\n",
      "Epoch 4/20\n",
      "90/90 [==============================] - 0s 472us/step - loss: 1.8106 - acc: 0.5444 - val_loss: 1.5542 - val_acc: 0.8000\n",
      "Epoch 5/20\n",
      "90/90 [==============================] - 0s 451us/step - loss: 1.6591 - acc: 0.5444 - val_loss: 1.3304 - val_acc: 0.8000\n",
      "Epoch 6/20\n",
      "90/90 [==============================] - 0s 374us/step - loss: 1.4724 - acc: 0.5556 - val_loss: 1.1360 - val_acc: 0.8000\n",
      "Epoch 7/20\n",
      "90/90 [==============================] - 0s 461us/step - loss: 1.3273 - acc: 0.5667 - val_loss: 0.9884 - val_acc: 0.8000\n",
      "Epoch 8/20\n",
      "90/90 [==============================] - 0s 476us/step - loss: 1.2427 - acc: 0.5556 - val_loss: 0.8819 - val_acc: 0.8000\n",
      "Epoch 9/20\n",
      "90/90 [==============================] - 0s 624us/step - loss: 1.1751 - acc: 0.5778 - val_loss: 0.8133 - val_acc: 0.8000\n",
      "Epoch 10/20\n",
      "90/90 [==============================] - 0s 560us/step - loss: 1.1014 - acc: 0.6000 - val_loss: 0.7704 - val_acc: 0.8000\n",
      "Epoch 11/20\n",
      "90/90 [==============================] - 0s 528us/step - loss: 1.0574 - acc: 0.6556 - val_loss: 0.7447 - val_acc: 0.8000\n",
      "Epoch 12/20\n",
      "90/90 [==============================] - 0s 542us/step - loss: 0.9685 - acc: 0.7222 - val_loss: 0.7332 - val_acc: 0.8000\n",
      "Epoch 13/20\n",
      "90/90 [==============================] - 0s 676us/step - loss: 0.8985 - acc: 0.7333 - val_loss: 0.7330 - val_acc: 0.8000\n",
      "Epoch 14/20\n",
      "90/90 [==============================] - 0s 514us/step - loss: 0.8308 - acc: 0.7667 - val_loss: 0.7353 - val_acc: 0.8000\n",
      "Epoch 15/20\n",
      "90/90 [==============================] - 0s 520us/step - loss: 0.7568 - acc: 0.7778 - val_loss: 0.7353 - val_acc: 0.8000\n",
      "Epoch 16/20\n",
      "90/90 [==============================] - 0s 487us/step - loss: 0.7022 - acc: 0.7778 - val_loss: 0.7365 - val_acc: 0.8000\n",
      "Epoch 17/20\n",
      "90/90 [==============================] - 0s 537us/step - loss: 0.6714 - acc: 0.8000 - val_loss: 0.7386 - val_acc: 0.8000\n",
      "Epoch 18/20\n",
      "90/90 [==============================] - 0s 533us/step - loss: 0.6124 - acc: 0.8000 - val_loss: 0.7396 - val_acc: 0.8000\n",
      "Epoch 19/20\n",
      "90/90 [==============================] - 0s 497us/step - loss: 0.5508 - acc: 0.8111 - val_loss: 0.7441 - val_acc: 0.8000\n",
      "Epoch 20/20\n",
      "90/90 [==============================] - 0s 481us/step - loss: 0.5046 - acc: 0.8778 - val_loss: 0.7481 - val_acc: 0.8000\n",
      "142/142 [==============================] - 0s 335us/step\n",
      "Train on 180 samples, validate on 20 samples\n",
      "Epoch 1/20\n",
      "180/180 [==============================] - 0s 400us/step - loss: 0.8711 - acc: 0.7778 - val_loss: 1.3470 - val_acc: 0.6000\n",
      "Epoch 2/20\n",
      "180/180 [==============================] - 0s 443us/step - loss: 0.7878 - acc: 0.7944 - val_loss: 1.3384 - val_acc: 0.5500\n",
      "Epoch 3/20\n",
      "180/180 [==============================] - 0s 451us/step - loss: 0.7172 - acc: 0.8333 - val_loss: 1.3352 - val_acc: 0.5500\n",
      "Epoch 4/20\n",
      "180/180 [==============================] - 0s 480us/step - loss: 0.6299 - acc: 0.8556 - val_loss: 1.3182 - val_acc: 0.5500\n",
      "Epoch 5/20\n",
      "180/180 [==============================] - 0s 487us/step - loss: 0.5685 - acc: 0.8889 - val_loss: 1.3091 - val_acc: 0.5500\n",
      "Epoch 6/20\n",
      "180/180 [==============================] - 0s 461us/step - loss: 0.4944 - acc: 0.8944 - val_loss: 1.2956 - val_acc: 0.5500\n",
      "Epoch 7/20\n",
      "180/180 [==============================] - 0s 414us/step - loss: 0.4300 - acc: 0.9000 - val_loss: 1.2939 - val_acc: 0.5500\n",
      "Epoch 8/20\n",
      "180/180 [==============================] - 0s 455us/step - loss: 0.3872 - acc: 0.9111 - val_loss: 1.2924 - val_acc: 0.5500\n",
      "Epoch 9/20\n",
      "180/180 [==============================] - 0s 543us/step - loss: 0.3264 - acc: 0.9167 - val_loss: 1.2896 - val_acc: 0.5500\n",
      "Epoch 10/20\n",
      "180/180 [==============================] - 0s 482us/step - loss: 0.2881 - acc: 0.9444 - val_loss: 1.2899 - val_acc: 0.5500\n",
      "Epoch 11/20\n",
      "180/180 [==============================] - 0s 522us/step - loss: 0.2549 - acc: 0.9500 - val_loss: 1.2922 - val_acc: 0.5500\n",
      "Epoch 12/20\n",
      "180/180 [==============================] - 0s 465us/step - loss: 0.2318 - acc: 0.9667 - val_loss: 1.2962 - val_acc: 0.5500\n",
      "Epoch 13/20\n",
      "180/180 [==============================] - 0s 526us/step - loss: 0.2056 - acc: 0.9556 - val_loss: 1.3044 - val_acc: 0.5500\n",
      "Epoch 14/20\n",
      "180/180 [==============================] - 0s 509us/step - loss: 0.1719 - acc: 0.9833 - val_loss: 1.3105 - val_acc: 0.5000\n",
      "Epoch 15/20\n",
      "180/180 [==============================] - 0s 487us/step - loss: 0.1511 - acc: 0.9889 - val_loss: 1.3142 - val_acc: 0.5500\n",
      "Epoch 16/20\n",
      "180/180 [==============================] - 0s 487us/step - loss: 0.1327 - acc: 0.9944 - val_loss: 1.3178 - val_acc: 0.5500\n",
      "Epoch 17/20\n",
      "180/180 [==============================] - 0s 525us/step - loss: 0.1126 - acc: 0.9944 - val_loss: 1.3201 - val_acc: 0.5500\n",
      "Epoch 18/20\n",
      "180/180 [==============================] - 0s 514us/step - loss: 0.1098 - acc: 0.9944 - val_loss: 1.3276 - val_acc: 0.5500\n",
      "Epoch 19/20\n",
      "180/180 [==============================] - 0s 493us/step - loss: 0.0871 - acc: 1.0000 - val_loss: 1.3319 - val_acc: 0.5500\n",
      "Epoch 20/20\n",
      "180/180 [==============================] - 0s 484us/step - loss: 0.0748 - acc: 1.0000 - val_loss: 1.3332 - val_acc: 0.5500\n",
      "142/142 [==============================] - 0s 332us/step\n",
      "Train on 270 samples, validate on 30 samples\n",
      "Epoch 1/20\n",
      "270/270 [==============================] - 0s 482us/step - loss: 0.5116 - acc: 0.8815 - val_loss: 0.9242 - val_acc: 0.7667\n",
      "Epoch 2/20\n",
      "270/270 [==============================] - 0s 488us/step - loss: 0.4075 - acc: 0.8889 - val_loss: 0.9322 - val_acc: 0.7667\n",
      "Epoch 3/20\n",
      "270/270 [==============================] - 0s 551us/step - loss: 0.3261 - acc: 0.9296 - val_loss: 0.8889 - val_acc: 0.8000\n",
      "Epoch 4/20\n",
      "270/270 [==============================] - 0s 490us/step - loss: 0.2490 - acc: 0.9333 - val_loss: 0.8316 - val_acc: 0.8000\n",
      "Epoch 5/20\n",
      "270/270 [==============================] - 0s 464us/step - loss: 0.1969 - acc: 0.9704 - val_loss: 0.8171 - val_acc: 0.8000\n",
      "Epoch 6/20\n",
      "270/270 [==============================] - 0s 468us/step - loss: 0.1639 - acc: 0.9630 - val_loss: 0.8107 - val_acc: 0.8000\n",
      "Epoch 7/20\n",
      "270/270 [==============================] - 0s 484us/step - loss: 0.1264 - acc: 0.9815 - val_loss: 0.8064 - val_acc: 0.8000\n",
      "Epoch 8/20\n",
      "270/270 [==============================] - 0s 420us/step - loss: 0.1027 - acc: 0.9926 - val_loss: 0.8063 - val_acc: 0.8000\n",
      "Epoch 9/20\n",
      "270/270 [==============================] - 0s 505us/step - loss: 0.0891 - acc: 0.9926 - val_loss: 0.8063 - val_acc: 0.8000\n",
      "Epoch 10/20\n",
      "270/270 [==============================] - 0s 517us/step - loss: 0.0797 - acc: 0.9926 - val_loss: 0.8006 - val_acc: 0.8000\n",
      "Epoch 11/20\n",
      "270/270 [==============================] - 0s 457us/step - loss: 0.0689 - acc: 0.9963 - val_loss: 0.7974 - val_acc: 0.8000\n",
      "Epoch 12/20\n",
      "270/270 [==============================] - 0s 433us/step - loss: 0.0546 - acc: 0.9963 - val_loss: 0.8052 - val_acc: 0.8000\n",
      "Epoch 13/20\n",
      "270/270 [==============================] - 0s 443us/step - loss: 0.0480 - acc: 0.9963 - val_loss: 0.8101 - val_acc: 0.8000\n",
      "Epoch 14/20\n",
      "270/270 [==============================] - 0s 451us/step - loss: 0.0477 - acc: 0.9963 - val_loss: 0.8087 - val_acc: 0.8000\n",
      "Epoch 15/20\n",
      "270/270 [==============================] - 0s 451us/step - loss: 0.0432 - acc: 0.9963 - val_loss: 0.8054 - val_acc: 0.8000\n",
      "Epoch 16/20\n",
      "270/270 [==============================] - 0s 443us/step - loss: 0.0361 - acc: 1.0000 - val_loss: 0.8051 - val_acc: 0.8000\n",
      "Epoch 17/20\n",
      "270/270 [==============================] - 0s 440us/step - loss: 0.0327 - acc: 1.0000 - val_loss: 0.8083 - val_acc: 0.8000\n",
      "Epoch 18/20\n",
      "270/270 [==============================] - 0s 465us/step - loss: 0.0306 - acc: 1.0000 - val_loss: 0.8048 - val_acc: 0.8000\n",
      "Epoch 19/20\n",
      "270/270 [==============================] - 0s 468us/step - loss: 0.0290 - acc: 1.0000 - val_loss: 0.8065 - val_acc: 0.8000\n",
      "Epoch 20/20\n"
     ]
    },
    {
     "name": "stdout",
     "output_type": "stream",
     "text": [
      "270/270 [==============================] - 0s 440us/step - loss: 0.0260 - acc: 1.0000 - val_loss: 0.8083 - val_acc: 0.8000\n",
      "142/142 [==============================] - 0s 280us/step\n",
      "Train on 360 samples, validate on 40 samples\n",
      "Epoch 1/20\n",
      "360/360 [==============================] - 0s 403us/step - loss: 0.2502 - acc: 0.9361 - val_loss: 1.1950 - val_acc: 0.6500\n",
      "Epoch 2/20\n",
      "360/360 [==============================] - 0s 456us/step - loss: 0.1753 - acc: 0.9500 - val_loss: 1.1840 - val_acc: 0.6500\n",
      "Epoch 3/20\n",
      "360/360 [==============================] - 0s 444us/step - loss: 0.1145 - acc: 0.9667 - val_loss: 1.1847 - val_acc: 0.6500\n",
      "Epoch 4/20\n",
      "360/360 [==============================] - 0s 418us/step - loss: 0.0920 - acc: 0.9778 - val_loss: 1.1851 - val_acc: 0.6500\n",
      "Epoch 5/20\n",
      "360/360 [==============================] - 0s 400us/step - loss: 0.0588 - acc: 0.9861 - val_loss: 1.2016 - val_acc: 0.6500\n",
      "Epoch 6/20\n",
      "360/360 [==============================] - 0s 419us/step - loss: 0.0488 - acc: 0.9917 - val_loss: 1.2080 - val_acc: 0.6500\n",
      "Epoch 7/20\n",
      "360/360 [==============================] - 0s 395us/step - loss: 0.0398 - acc: 0.9972 - val_loss: 1.2251 - val_acc: 0.7000\n",
      "Epoch 8/20\n",
      "360/360 [==============================] - 0s 406us/step - loss: 0.0326 - acc: 1.0000 - val_loss: 1.2389 - val_acc: 0.6750\n",
      "Epoch 9/20\n",
      "360/360 [==============================] - 0s 395us/step - loss: 0.0293 - acc: 0.9972 - val_loss: 1.2396 - val_acc: 0.6500\n",
      "Epoch 10/20\n",
      "360/360 [==============================] - 0s 388us/step - loss: 0.0244 - acc: 1.0000 - val_loss: 1.2484 - val_acc: 0.6500\n",
      "Epoch 11/20\n",
      "360/360 [==============================] - 0s 415us/step - loss: 0.0251 - acc: 1.0000 - val_loss: 1.2577 - val_acc: 0.6500\n",
      "Epoch 12/20\n",
      "360/360 [==============================] - 0s 391us/step - loss: 0.0199 - acc: 1.0000 - val_loss: 1.2713 - val_acc: 0.6500\n",
      "Epoch 13/20\n",
      "360/360 [==============================] - 0s 419us/step - loss: 0.0190 - acc: 1.0000 - val_loss: 1.2839 - val_acc: 0.6500\n",
      "Epoch 14/20\n",
      "360/360 [==============================] - 0s 409us/step - loss: 0.0163 - acc: 1.0000 - val_loss: 1.2872 - val_acc: 0.6500\n",
      "Epoch 15/20\n",
      "360/360 [==============================] - 0s 424us/step - loss: 0.0153 - acc: 1.0000 - val_loss: 1.2899 - val_acc: 0.6500\n",
      "Epoch 16/20\n",
      "360/360 [==============================] - 0s 452us/step - loss: 0.0149 - acc: 1.0000 - val_loss: 1.2995 - val_acc: 0.6500\n",
      "Epoch 17/20\n",
      "360/360 [==============================] - 0s 448us/step - loss: 0.0146 - acc: 1.0000 - val_loss: 1.3117 - val_acc: 0.6500\n",
      "Epoch 18/20\n",
      "360/360 [==============================] - 0s 383us/step - loss: 0.0131 - acc: 1.0000 - val_loss: 1.3167 - val_acc: 0.6500\n",
      "Epoch 19/20\n",
      "360/360 [==============================] - 0s 403us/step - loss: 0.0129 - acc: 1.0000 - val_loss: 1.3245 - val_acc: 0.6500\n",
      "Epoch 20/20\n",
      "360/360 [==============================] - 0s 430us/step - loss: 0.0113 - acc: 1.0000 - val_loss: 1.3328 - val_acc: 0.6500\n",
      "142/142 [==============================] - 0s 264us/step\n",
      "Train on 450 samples, validate on 50 samples\n",
      "Epoch 1/20\n",
      "450/450 [==============================] - 0s 403us/step - loss: 0.2966 - acc: 0.9289 - val_loss: 1.8501 - val_acc: 0.6200\n",
      "Epoch 2/20\n",
      "450/450 [==============================] - 0s 385us/step - loss: 0.1570 - acc: 0.9533 - val_loss: 1.8362 - val_acc: 0.6400\n",
      "Epoch 3/20\n",
      "450/450 [==============================] - 0s 378us/step - loss: 0.0996 - acc: 0.9689 - val_loss: 1.8130 - val_acc: 0.6600\n",
      "Epoch 4/20\n",
      "450/450 [==============================] - 0s 383us/step - loss: 0.0571 - acc: 0.9822 - val_loss: 1.8392 - val_acc: 0.6800\n",
      "Epoch 5/20\n",
      "450/450 [==============================] - 0s 413us/step - loss: 0.0420 - acc: 0.9956 - val_loss: 1.8414 - val_acc: 0.6600\n",
      "Epoch 6/20\n",
      "450/450 [==============================] - 0s 422us/step - loss: 0.0383 - acc: 0.9911 - val_loss: 1.8752 - val_acc: 0.6600\n",
      "Epoch 7/20\n",
      "450/450 [==============================] - 0s 461us/step - loss: 0.0271 - acc: 1.0000 - val_loss: 1.8477 - val_acc: 0.7000\n",
      "Epoch 8/20\n",
      "450/450 [==============================] - 0s 434us/step - loss: 0.0219 - acc: 1.0000 - val_loss: 1.8873 - val_acc: 0.7000\n",
      "Epoch 9/20\n",
      "450/450 [==============================] - 0s 393us/step - loss: 0.0221 - acc: 0.9978 - val_loss: 1.9417 - val_acc: 0.6800\n",
      "Epoch 10/20\n",
      "450/450 [==============================] - 0s 400us/step - loss: 0.0182 - acc: 1.0000 - val_loss: 1.9417 - val_acc: 0.6800\n",
      "Epoch 11/20\n",
      "450/450 [==============================] - 0s 396us/step - loss: 0.0164 - acc: 1.0000 - val_loss: 1.9356 - val_acc: 0.6800\n",
      "Epoch 12/20\n",
      "450/450 [==============================] - 0s 403us/step - loss: 0.0137 - acc: 1.0000 - val_loss: 1.9440 - val_acc: 0.6800\n",
      "Epoch 13/20\n",
      "450/450 [==============================] - 0s 398us/step - loss: 0.0144 - acc: 1.0000 - val_loss: 1.9539 - val_acc: 0.6800\n",
      "Epoch 14/20\n",
      "450/450 [==============================] - 0s 406us/step - loss: 0.0113 - acc: 1.0000 - val_loss: 1.9640 - val_acc: 0.6800\n",
      "Epoch 15/20\n",
      "450/450 [==============================] - 0s 403us/step - loss: 0.0115 - acc: 1.0000 - val_loss: 1.9646 - val_acc: 0.6800\n",
      "Epoch 16/20\n",
      "450/450 [==============================] - 0s 446us/step - loss: 0.0087 - acc: 1.0000 - val_loss: 1.9880 - val_acc: 0.6800\n",
      "Epoch 17/20\n",
      "450/450 [==============================] - 0s 418us/step - loss: 0.0087 - acc: 1.0000 - val_loss: 2.0077 - val_acc: 0.6800\n",
      "Epoch 18/20\n",
      "450/450 [==============================] - 0s 387us/step - loss: 0.0089 - acc: 1.0000 - val_loss: 2.0161 - val_acc: 0.6800\n",
      "Epoch 19/20\n",
      "450/450 [==============================] - 0s 408us/step - loss: 0.0079 - acc: 1.0000 - val_loss: 2.0193 - val_acc: 0.6800\n",
      "Epoch 20/20\n",
      "450/450 [==============================] - 0s 398us/step - loss: 0.0083 - acc: 1.0000 - val_loss: 2.0293 - val_acc: 0.6800\n",
      "142/142 [==============================] - 0s 269us/step\n",
      "Train on 540 samples, validate on 60 samples\n",
      "Epoch 1/20\n",
      "540/540 [==============================] - 0s 380us/step - loss: 0.3371 - acc: 0.9333 - val_loss: 1.5181 - val_acc: 0.6000\n",
      "Epoch 2/20\n",
      "540/540 [==============================] - 0s 408us/step - loss: 0.1838 - acc: 0.9519 - val_loss: 1.5511 - val_acc: 0.6000\n",
      "Epoch 3/20\n",
      "540/540 [==============================] - 0s 405us/step - loss: 0.0915 - acc: 0.9722 - val_loss: 1.4896 - val_acc: 0.6500\n",
      "Epoch 4/20\n",
      "540/540 [==============================] - 0s 422us/step - loss: 0.0550 - acc: 0.9852 - val_loss: 1.4989 - val_acc: 0.6500\n",
      "Epoch 5/20\n",
      "540/540 [==============================] - 0s 446us/step - loss: 0.0387 - acc: 0.9963 - val_loss: 1.5645 - val_acc: 0.6667\n",
      "Epoch 6/20\n",
      "540/540 [==============================] - 0s 405us/step - loss: 0.0293 - acc: 0.9981 - val_loss: 1.5673 - val_acc: 0.6667\n",
      "Epoch 7/20\n",
      "540/540 [==============================] - 0s 396us/step - loss: 0.0217 - acc: 0.9981 - val_loss: 1.5845 - val_acc: 0.6667\n",
      "Epoch 8/20\n",
      "540/540 [==============================] - 0s 393us/step - loss: 0.0202 - acc: 0.9981 - val_loss: 1.6108 - val_acc: 0.6500\n",
      "Epoch 9/20\n",
      "540/540 [==============================] - 0s 388us/step - loss: 0.0155 - acc: 1.0000 - val_loss: 1.6252 - val_acc: 0.6500\n",
      "Epoch 10/20\n",
      "540/540 [==============================] - 0s 388us/step - loss: 0.0132 - acc: 1.0000 - val_loss: 1.6414 - val_acc: 0.6667\n",
      "Epoch 11/20\n",
      "540/540 [==============================] - 0s 423us/step - loss: 0.0131 - acc: 1.0000 - val_loss: 1.6757 - val_acc: 0.6667\n",
      "Epoch 12/20\n",
      "540/540 [==============================] - 0s 398us/step - loss: 0.0099 - acc: 1.0000 - val_loss: 1.6987 - val_acc: 0.6667\n",
      "Epoch 13/20\n",
      "540/540 [==============================] - 0s 384us/step - loss: 0.0106 - acc: 1.0000 - val_loss: 1.6956 - val_acc: 0.6667\n",
      "Epoch 14/20\n",
      "540/540 [==============================] - 0s 417us/step - loss: 0.0094 - acc: 1.0000 - val_loss: 1.7091 - val_acc: 0.6667\n",
      "Epoch 15/20\n",
      "540/540 [==============================] - 0s 403us/step - loss: 0.0107 - acc: 1.0000 - val_loss: 1.7101 - val_acc: 0.6500\n",
      "Epoch 16/20\n",
      "540/540 [==============================] - 0s 392us/step - loss: 0.0086 - acc: 1.0000 - val_loss: 1.7103 - val_acc: 0.6500\n",
      "Epoch 17/20\n",
      "540/540 [==============================] - 0s 411us/step - loss: 0.0085 - acc: 1.0000 - val_loss: 1.7302 - val_acc: 0.6500\n",
      "Epoch 18/20\n",
      "540/540 [==============================] - 0s 436us/step - loss: 0.0080 - acc: 1.0000 - val_loss: 1.7415 - val_acc: 0.6667\n"
     ]
    },
    {
     "name": "stdout",
     "output_type": "stream",
     "text": [
      "Epoch 19/20\n",
      "540/540 [==============================] - 0s 397us/step - loss: 0.0068 - acc: 1.0000 - val_loss: 1.7461 - val_acc: 0.6667\n",
      "Epoch 20/20\n",
      "540/540 [==============================] - 0s 376us/step - loss: 0.0060 - acc: 1.0000 - val_loss: 1.7690 - val_acc: 0.6667\n",
      "142/142 [==============================] - 0s 243us/step\n",
      "Train on 630 samples, validate on 70 samples\n",
      "Epoch 1/20\n",
      "630/630 [==============================] - 0s 371us/step - loss: 0.2230 - acc: 0.9508 - val_loss: 1.9103 - val_acc: 0.6429\n",
      "Epoch 2/20\n",
      "630/630 [==============================] - 0s 369us/step - loss: 0.1032 - acc: 0.9746 - val_loss: 1.7730 - val_acc: 0.6429\n",
      "Epoch 3/20\n",
      "630/630 [==============================] - 0s 424us/step - loss: 0.0543 - acc: 0.9921 - val_loss: 1.8496 - val_acc: 0.6429\n",
      "Epoch 4/20\n",
      "630/630 [==============================] - 0s 420us/step - loss: 0.0344 - acc: 0.9921 - val_loss: 1.8787 - val_acc: 0.6571\n",
      "Epoch 5/20\n",
      "630/630 [==============================] - 0s 390us/step - loss: 0.0267 - acc: 0.9937 - val_loss: 1.8872 - val_acc: 0.6286\n",
      "Epoch 6/20\n",
      "630/630 [==============================] - 0s 378us/step - loss: 0.0176 - acc: 0.9968 - val_loss: 1.9391 - val_acc: 0.6571\n",
      "Epoch 7/20\n",
      "630/630 [==============================] - 0s 382us/step - loss: 0.0109 - acc: 1.0000 - val_loss: 1.9218 - val_acc: 0.6429\n",
      "Epoch 8/20\n",
      "630/630 [==============================] - 0s 382us/step - loss: 0.0118 - acc: 1.0000 - val_loss: 1.9728 - val_acc: 0.6429\n",
      "Epoch 9/20\n",
      "630/630 [==============================] - 0s 387us/step - loss: 0.0106 - acc: 1.0000 - val_loss: 1.9602 - val_acc: 0.6286\n",
      "Epoch 10/20\n",
      "630/630 [==============================] - 0s 466us/step - loss: 0.0093 - acc: 1.0000 - val_loss: 1.9808 - val_acc: 0.6429\n",
      "Epoch 11/20\n",
      "630/630 [==============================] - 0s 389us/step - loss: 0.0075 - acc: 1.0000 - val_loss: 1.9773 - val_acc: 0.6286\n",
      "Epoch 12/20\n",
      "630/630 [==============================] - 0s 370us/step - loss: 0.0068 - acc: 1.0000 - val_loss: 2.0354 - val_acc: 0.6429\n",
      "Epoch 13/20\n",
      "630/630 [==============================] - 0s 387us/step - loss: 0.0066 - acc: 1.0000 - val_loss: 1.9905 - val_acc: 0.6286\n",
      "Epoch 14/20\n",
      "630/630 [==============================] - 0s 433us/step - loss: 0.0075 - acc: 1.0000 - val_loss: 2.0219 - val_acc: 0.6429\n",
      "Epoch 15/20\n",
      "630/630 [==============================] - 0s 409us/step - loss: 0.0065 - acc: 1.0000 - val_loss: 2.0182 - val_acc: 0.6429\n",
      "Epoch 16/20\n",
      "630/630 [==============================] - 0s 395us/step - loss: 0.0062 - acc: 1.0000 - val_loss: 2.0504 - val_acc: 0.6429\n",
      "Epoch 17/20\n",
      "630/630 [==============================] - 0s 384us/step - loss: 0.0052 - acc: 1.0000 - val_loss: 2.0436 - val_acc: 0.6429\n",
      "Epoch 18/20\n",
      "630/630 [==============================] - 0s 382us/step - loss: 0.0054 - acc: 1.0000 - val_loss: 2.0657 - val_acc: 0.6429\n",
      "Epoch 19/20\n",
      "630/630 [==============================] - 0s 473us/step - loss: 0.0048 - acc: 1.0000 - val_loss: 2.0918 - val_acc: 0.6429\n",
      "Epoch 20/20\n",
      "630/630 [==============================] - 0s 361us/step - loss: 0.0047 - acc: 1.0000 - val_loss: 2.1127 - val_acc: 0.6429\n",
      "142/142 [==============================] - 0s 233us/step\n"
     ]
    }
   ],
   "source": [
    "data1=[]\n",
    "data2=[]\n",
    "datann=[]\n",
    "clf1=LinearSVC()\n",
    "clf2=GaussianNB()\n",
    "for i in range(1,8):\n",
    "    xtr=xdftrain[0:i*100]\n",
    "    ytr=ytrain[0:i*100]\n",
    "    clf1.fit(xtr,ytr)\n",
    "    clf2.fit(xtr.toarray(),ytr)\n",
    "    model.fit(xtr, utils.to_categorical(ytr, 11),\n",
    "                    batch_size=30,\n",
    "                    epochs=20,\n",
    "                    verbose=1,\n",
    "                    validation_split=0.1)\n",
    "    \n",
    "    data1.append(clf1.score(xdftest,ytest))\n",
    "    data2.append(clf2.score(xdftest.toarray(),ytest))\n",
    "    datann.append(model.evaluate(xdftest,utils.to_categorical(ytest, 11),\n",
    "                       batch_size=10, verbose=1)[1])\n",
    "    \n",
    "    \n",
    "    "
   ]
  },
  {
   "cell_type": "code",
   "execution_count": 20,
   "metadata": {},
   "outputs": [],
   "source": [
    "import matplotlib.pyplot as plt"
   ]
  },
  {
   "cell_type": "code",
   "execution_count": 31,
   "metadata": {},
   "outputs": [
    {
     "data": {
      "image/png": "[encoded data removed]",
      "text/plain": [
       "<Figure size 432x288 with 1 Axes>"
      ]
     },
     "metadata": {},
     "output_type": "display_data"
    }
   ],
   "source": [
    "plt.plot([100,200,300,400,500,600,700],data1,color='b')\n",
    "plt.plot([100,200,300,400,500,600,700],data2,color='r')\n",
    "plt.plot([100,200,300,400,500,600,700],datann,color='g')\n",
    "plt.gca().legend(('SVM','Naive Bayes','NN'))\n",
    "plt.xlabel('No. of Data Points fed')\n",
    "plt.ylabel('Accuracy')\n",
    "plt.title('Models Trail Summary')\n",
    "plt.show()"
   ]
  },
  {
   "cell_type": "markdown",
   "metadata": {},
   "source": [
    "## Clearly SVM is performing much better and with more data points the graph will grow more"
   ]
  },
  {
   "cell_type": "code",
   "execution_count": null,
   "metadata": {},
   "outputs": [],
   "source": []
  },
  {
   "cell_type": "markdown",
   "metadata": {},
   "source": [
    "# Final Training of SVM Model with the whole data via TF-IDF"
   ]
  },
  {
   "cell_type": "code",
   "execution_count": 22,
   "metadata": {},
   "outputs": [],
   "source": [
    "tok=TfidfVectorizer(stop_words=stopwords.words(\"english\"), analyzer='word',max_features=1000,token_pattern=r'\\b[^\\d\\W]+\\b')"
   ]
  },
  {
   "cell_type": "code",
   "execution_count": 23,
   "metadata": {},
   "outputs": [],
   "source": [
    "X=tok.fit_transform(data.iloc[:,0])\n",
    "Y=data.iloc[:,1]"
   ]
  },
  {
   "cell_type": "code",
   "execution_count": 24,
   "metadata": {},
   "outputs": [
    {
     "data": {
      "text/plain": [
       "LinearSVC(C=1.0, class_weight=None, dual=True, fit_intercept=True,\n",
       "     intercept_scaling=1, loss='squared_hinge', max_iter=1000,\n",
       "     multi_class='ovr', penalty='l2', random_state=None, tol=0.0001,\n",
       "     verbose=0)"
      ]
     },
     "execution_count": 24,
     "metadata": {},
     "output_type": "execute_result"
    }
   ],
   "source": [
    "classifier=LinearSVC()\n",
    "classifier.fit(X,Y)"
   ]
  },
  {
   "cell_type": "markdown",
   "metadata": {},
   "source": [
    "### making a pickle dump of the model to be used in the webapp"
   ]
  },
  {
   "cell_type": "code",
   "execution_count": 25,
   "metadata": {},
   "outputs": [],
   "source": [
    "import pickle"
   ]
  },
  {
   "cell_type": "code",
   "execution_count": 28,
   "metadata": {},
   "outputs": [],
   "source": [
    "file=open('precog/model.obj','wb')\n",
    "pickle.dump(classifier,file)"
   ]
  },
  {
   "cell_type": "code",
   "execution_count": null,
   "metadata": {},
   "outputs": [],
   "source": []
  }
 ],
 "metadata": {
  "kernelspec": {
   "display_name": "Python 3",
   "language": "python",
   "name": "python3"
  },
  "language_info": {
   "codemirror_mode": {
    "name": "ipython",
    "version": 3
   },
   "file_extension": ".py",
   "mimetype": "text/x-python",
   "name": "python",
   "nbconvert_exporter": "python",
   "pygments_lexer": "ipython3",
   "version": "3.6.5"
  }
 },
 "nbformat": 4,
 "nbformat_minor": 2
}
